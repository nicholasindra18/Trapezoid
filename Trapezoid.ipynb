{
  "nbformat": 4,
  "nbformat_minor": 0,
  "metadata": {
    "colab": {
      "name": "CODE PYTHON UAS NO 3 .ipynb",
      "provenance": [],
      "collapsed_sections": []
    },
    "kernelspec": {
      "name": "python3",
      "display_name": "Python 3"
    },
    "language_info": {
      "name": "python"
    }
  },
  "cells": [
    {
      "cell_type": "code",
      "execution_count": null,
      "metadata": {
        "colab": {
          "base_uri": "https://localhost:8080/"
        },
        "id": "1HCDMJRWSNNt",
        "outputId": "ddcc1d4f-abf4-4556-a2ea-e6f1fcebcc03"
      },
      "outputs": [
        {
          "output_type": "stream",
          "name": "stdout",
          "text": [
            "(h = 1) Trapezoid : 1.5\n"
          ]
        }
      ],
      "source": [
        "import numpy as np\n",
        "\n",
        "# batas\n",
        "bawah = 0\n",
        "atas = 1\n",
        "\n",
        "# banyak x (0 dan 1)\n",
        "n = 2\n",
        "\n",
        "# pada soal\n",
        "h = 1\n",
        "\n",
        "# membuat interval dalam array\n",
        "x = np.linspace(bawah, atas, n)\n",
        "\n",
        "# nilai f(x) pada x = 0 adalah 1\n",
        "# nilai f(x) pada x = 1 adalah 2\n",
        "xNilai = np.array([1, 2])\n",
        "\n",
        "# Rumus Trapezoid\n",
        "Trapezoid = (h/2)*(xNilai[0] + 2 * sum(xNilai[1:n-1]) + xNilai[n-1])\n",
        "\n",
        "print(f'(h = 1) Trapezoid : {np.round(Trapezoid, 4)}')"
      ]
    },
    {
      "cell_type": "code",
      "source": [
        "import numpy as np\n",
        "\n",
        "# batas\n",
        "bawah = 0\n",
        "atas = 1\n",
        "\n",
        "# banyak x (0, 0.5 dan 1)\n",
        "n = 3\n",
        "\n",
        "# pada soal\n",
        "h = 0.5\n",
        "\n",
        "# membuat interval dalam array\n",
        "x = np.linspace(bawah, atas, n)\n",
        "\n",
        "# nilai f(x) pada x = 0 adalah 1\n",
        "# nilai f(x) pada x = 0.5 adalah 1.1250\n",
        "# nilai f(x) pada x = 1 adalah 2\n",
        "xNilai = np.array([1, 1.1250, 2])\n",
        "\n",
        "# Rumus Trapezoid\n",
        "Trapezoid = (h/2)*(xNilai[0] + 2 * sum(xNilai[1:n-1]) + xNilai[n-1])\n",
        "\n",
        "print(f'(h = 0.5) Trapezoid : {np.round(Trapezoid, 4)}')"
      ],
      "metadata": {
        "colab": {
          "base_uri": "https://localhost:8080/"
        },
        "id": "w_kgCTlBSqMQ",
        "outputId": "57da5af7-cf6e-461e-8496-6f25e3af55cf"
      },
      "execution_count": null,
      "outputs": [
        {
          "output_type": "stream",
          "name": "stdout",
          "text": [
            "(h = 0.5) Trapezoid : 1.3125\n"
          ]
        }
      ]
    },
    {
      "cell_type": "code",
      "source": [
        "import numpy as np\n",
        "\n",
        "# batas\n",
        "bawah = 0\n",
        "atas = 1\n",
        "\n",
        "# banyak x (0, 0.25, 0.5, 0.75 dan 1)\n",
        "n = 5\n",
        "\n",
        "# pada soal\n",
        "h = 0.25\n",
        "\n",
        "# membuat interval dalam array\n",
        "x = np.linspace(bawah, atas, n)\n",
        "\n",
        "# nilai f(x) pada x = 0 adalah 1\n",
        "# nilai f(x) pada x = 0.25 adalah 1.0156\n",
        "# nilai f(x) pada x = 0.5 adalah 1.1250\n",
        "# nilai f(x) pada x = 0.75 adalah 1.4219\n",
        "# nilai f(x) pada x = 1 adalah 2\n",
        "xNilai = np.array([1, 1.0156, 1.1250, 1.4219, 2])\n",
        "\n",
        "# Rumus Trapezoid\n",
        "Trapezoid = (h/2)*(xNilai[0] + 2 * sum(xNilai[1:n-1]) + xNilai[n-1])\n",
        "\n",
        "print(f'(h = 0.25) Trapezoid : {np.round(Trapezoid, 4)}')"
      ],
      "metadata": {
        "colab": {
          "base_uri": "https://localhost:8080/"
        },
        "id": "TGeB9TcgSyA7",
        "outputId": "e7c09f65-fcc6-46ea-9c64-73e4fe710785"
      },
      "execution_count": null,
      "outputs": [
        {
          "output_type": "stream",
          "name": "stdout",
          "text": [
            "(h = 0.25) Trapezoid : 1.2656\n"
          ]
        }
      ]
    },
    {
      "cell_type": "code",
      "source": [
        "import numpy as np\n",
        "\n",
        "# Nilai data\n",
        "a = 1.5000\n",
        "b = 1.3125\n",
        "c = 1.2656\n",
        "\n",
        "# Rumus\n",
        "R1 = (4**1*b - a) / (4**1 - 1)\n",
        "R2 = (4**1*c - b) / (4**1 - 1)\n",
        "\n",
        "# Rumus roberg\n",
        "Romberg = (4**2*R2 - R1) / (4**2 - 1)\n",
        "\n",
        "print(f'd = {np.round(R1, 4)}')\n",
        "print(f'e = {np.round(R2, 4)}')\n",
        "print(f'Romberg = {np.round(Romberg, 4)}')"
      ],
      "metadata": {
        "id": "K1a_HEBPTA3i",
        "colab": {
          "base_uri": "https://localhost:8080/"
        },
        "outputId": "625f6154-8fc4-45d3-9b11-21eab1152a1c"
      },
      "execution_count": null,
      "outputs": [
        {
          "output_type": "stream",
          "name": "stdout",
          "text": [
            "d = 1.25\n",
            "e = 1.25\n",
            "Romberg = 1.25\n"
          ]
        }
      ]
    }
  ]
}